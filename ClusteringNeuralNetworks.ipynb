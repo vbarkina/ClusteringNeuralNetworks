{
 "cells": [
  {
   "cell_type": "code",
   "execution_count": 17,
   "metadata": {},
   "outputs": [],
   "source": [
    "import numpy as np\n",
    "import pandas as pd\n",
    "from sklearn import datasets\n",
    "from sklearn.manifold import TSNE\n",
    "from matplotlib import pyplot as plt\n",
    "from scipy.cluster.hierarchy import linkage, dendrogram\n",
    "from sklearn.cluster import AgglomerativeClustering\n",
    "import scipy.cluster.hierarchy as sch\n",
    "from scipy.cluster.hierarchy import centroid, fcluster\n",
    "from scipy.spatial.distance import pdist\n",
    "import scipy.spatial.distance as sdist\n",
    "from sklearn.cluster import SpectralClustering\n",
    "from sklearn.metrics import pairwise_distances\n",
    "from sklearn.metrics.pairwise import manhattan_distances\n",
    "\n",
    "\n",
    "pyplot.show()"
   ]
  },
  {
   "cell_type": "markdown",
   "metadata": {},
   "source": [
    "Load data from csv file"
   ]
  },
  {
   "cell_type": "code",
   "execution_count": 1,
   "metadata": {},
   "outputs": [
    {
     "data": {
      "text/html": [
       "<div>\n",
       "<style scoped>\n",
       "    .dataframe tbody tr th:only-of-type {\n",
       "        vertical-align: middle;\n",
       "    }\n",
       "\n",
       "    .dataframe tbody tr th {\n",
       "        vertical-align: top;\n",
       "    }\n",
       "\n",
       "    .dataframe thead th {\n",
       "        text-align: right;\n",
       "    }\n",
       "</style>\n",
       "<table border=\"1\" class=\"dataframe\">\n",
       "  <thead>\n",
       "    <tr style=\"text-align: right;\">\n",
       "      <th></th>\n",
       "      <th>SepalLengthCm</th>\n",
       "      <th>SepalWidthCm</th>\n",
       "      <th>PetalLengthCm</th>\n",
       "      <th>PetalWidthCm</th>\n",
       "      <th>Species</th>\n",
       "    </tr>\n",
       "    <tr>\n",
       "      <th>Id</th>\n",
       "      <th></th>\n",
       "      <th></th>\n",
       "      <th></th>\n",
       "      <th></th>\n",
       "      <th></th>\n",
       "    </tr>\n",
       "  </thead>\n",
       "  <tbody>\n",
       "    <tr>\n",
       "      <td>1</td>\n",
       "      <td>5.1</td>\n",
       "      <td>3.5</td>\n",
       "      <td>1.4</td>\n",
       "      <td>0.2</td>\n",
       "      <td>Iris-setosa</td>\n",
       "    </tr>\n",
       "    <tr>\n",
       "      <td>2</td>\n",
       "      <td>4.9</td>\n",
       "      <td>3.0</td>\n",
       "      <td>1.4</td>\n",
       "      <td>0.2</td>\n",
       "      <td>Iris-setosa</td>\n",
       "    </tr>\n",
       "    <tr>\n",
       "      <td>3</td>\n",
       "      <td>4.7</td>\n",
       "      <td>3.2</td>\n",
       "      <td>1.3</td>\n",
       "      <td>0.2</td>\n",
       "      <td>Iris-setosa</td>\n",
       "    </tr>\n",
       "    <tr>\n",
       "      <td>4</td>\n",
       "      <td>4.6</td>\n",
       "      <td>3.1</td>\n",
       "      <td>1.5</td>\n",
       "      <td>0.2</td>\n",
       "      <td>Iris-setosa</td>\n",
       "    </tr>\n",
       "    <tr>\n",
       "      <td>5</td>\n",
       "      <td>5.0</td>\n",
       "      <td>3.6</td>\n",
       "      <td>1.4</td>\n",
       "      <td>0.2</td>\n",
       "      <td>Iris-setosa</td>\n",
       "    </tr>\n",
       "  </tbody>\n",
       "</table>\n",
       "</div>"
      ],
      "text/plain": [
       "    SepalLengthCm  SepalWidthCm  PetalLengthCm  PetalWidthCm      Species\n",
       "Id                                                                       \n",
       "1             5.1           3.5            1.4           0.2  Iris-setosa\n",
       "2             4.9           3.0            1.4           0.2  Iris-setosa\n",
       "3             4.7           3.2            1.3           0.2  Iris-setosa\n",
       "4             4.6           3.1            1.5           0.2  Iris-setosa\n",
       "5             5.0           3.6            1.4           0.2  Iris-setosa"
      ]
     },
     "execution_count": 1,
     "metadata": {},
     "output_type": "execute_result"
    }
   ],
   "source": [
    "df = pd.read_csv ('iris.csv', index_col='Id')\n",
    "df.head()"
   ]
  },
  {
   "cell_type": "code",
   "execution_count": 416,
   "metadata": {},
   "outputs": [
    {
     "data": {
      "text/plain": [
       "array(['Iris-setosa', 'Iris-versicolor', 'Iris-virginica'], dtype=object)"
      ]
     },
     "execution_count": 416,
     "metadata": {},
     "output_type": "execute_result"
    }
   ],
   "source": [
    "df['Species'].unique()"
   ]
  },
  {
   "cell_type": "code",
   "execution_count": 417,
   "metadata": {},
   "outputs": [
    {
     "data": {
      "text/html": [
       "<div>\n",
       "<style scoped>\n",
       "    .dataframe tbody tr th:only-of-type {\n",
       "        vertical-align: middle;\n",
       "    }\n",
       "\n",
       "    .dataframe tbody tr th {\n",
       "        vertical-align: top;\n",
       "    }\n",
       "\n",
       "    .dataframe thead th {\n",
       "        text-align: right;\n",
       "    }\n",
       "</style>\n",
       "<table border=\"1\" class=\"dataframe\">\n",
       "  <thead>\n",
       "    <tr style=\"text-align: right;\">\n",
       "      <th></th>\n",
       "      <th>SepalLengthCm</th>\n",
       "      <th>SepalWidthCm</th>\n",
       "      <th>PetalLengthCm</th>\n",
       "      <th>PetalWidthCm</th>\n",
       "      <th>Species</th>\n",
       "    </tr>\n",
       "    <tr>\n",
       "      <th>Id</th>\n",
       "      <th></th>\n",
       "      <th></th>\n",
       "      <th></th>\n",
       "      <th></th>\n",
       "      <th></th>\n",
       "    </tr>\n",
       "  </thead>\n",
       "  <tbody>\n",
       "    <tr>\n",
       "      <td>1</td>\n",
       "      <td>5.1</td>\n",
       "      <td>3.5</td>\n",
       "      <td>1.4</td>\n",
       "      <td>0.2</td>\n",
       "      <td>0</td>\n",
       "    </tr>\n",
       "    <tr>\n",
       "      <td>2</td>\n",
       "      <td>4.9</td>\n",
       "      <td>3.0</td>\n",
       "      <td>1.4</td>\n",
       "      <td>0.2</td>\n",
       "      <td>0</td>\n",
       "    </tr>\n",
       "    <tr>\n",
       "      <td>3</td>\n",
       "      <td>4.7</td>\n",
       "      <td>3.2</td>\n",
       "      <td>1.3</td>\n",
       "      <td>0.2</td>\n",
       "      <td>0</td>\n",
       "    </tr>\n",
       "    <tr>\n",
       "      <td>4</td>\n",
       "      <td>4.6</td>\n",
       "      <td>3.1</td>\n",
       "      <td>1.5</td>\n",
       "      <td>0.2</td>\n",
       "      <td>0</td>\n",
       "    </tr>\n",
       "    <tr>\n",
       "      <td>5</td>\n",
       "      <td>5.0</td>\n",
       "      <td>3.6</td>\n",
       "      <td>1.4</td>\n",
       "      <td>0.2</td>\n",
       "      <td>0</td>\n",
       "    </tr>\n",
       "  </tbody>\n",
       "</table>\n",
       "</div>"
      ],
      "text/plain": [
       "    SepalLengthCm  SepalWidthCm  PetalLengthCm  PetalWidthCm  Species\n",
       "Id                                                                   \n",
       "1             5.1           3.5            1.4           0.2        0\n",
       "2             4.9           3.0            1.4           0.2        0\n",
       "3             4.7           3.2            1.3           0.2        0\n",
       "4             4.6           3.1            1.5           0.2        0\n",
       "5             5.0           3.6            1.4           0.2        0"
      ]
     },
     "execution_count": 417,
     "metadata": {},
     "output_type": "execute_result"
    }
   ],
   "source": [
    "df.loc[df.Species == 'Iris-setosa', 'Species'] = 0\n",
    "df.loc[df.Species == 'Iris-versicolor', 'Species'] = 1\n",
    "df.loc[df.Species == 'Iris-virginica', 'Species'] = 1\n",
    "df.head()"
   ]
  },
  {
   "cell_type": "code",
   "execution_count": 418,
   "metadata": {},
   "outputs": [],
   "source": [
    "df_true = df['Species']\n",
    "df = df.drop(['Species'], axis=1)"
   ]
  },
  {
   "cell_type": "markdown",
   "metadata": {},
   "source": [
    "# K-means"
   ]
  },
  {
   "cell_type": "markdown",
   "metadata": {},
   "source": [
    "Implementation"
   ]
  },
  {
   "cell_type": "code",
   "execution_count": 419,
   "metadata": {},
   "outputs": [
    {
     "name": "stdout",
     "output_type": "stream",
     "text": [
      "[1 1 1 1 1 1 1 1 1 1 1 1 1 1 1 1 1 1 1 1 1 1 1 1 1 1 1 1 1 1 1 1 1 1 1 1 1\n",
      " 1 1 1 1 1 1 1 1 1 1 1 1 1 3 3 3 2 3 2 3 2 3 2 2 2 2 3 2 3 2 2 3 2 3 2 3 3\n",
      " 3 3 3 3 3 2 2 2 2 3 2 3 3 3 2 2 2 3 2 2 2 2 2 3 2 2 0 3 0 0 0 0 2 0 0 0 3\n",
      " 3 0 3 3 0 0 0 0 3 0 3 0 3 0 0 3 3 0 0 0 0 0 3 3 0 0 0 3 0 0 0 3 0 0 0 3 3\n",
      " 0 3]\n"
     ]
    }
   ],
   "source": [
    "y_kmeans = KMeans(n_clusters=4).fit(df)\n",
    "\n",
    "# Предсказание на всем наборе данных\n",
    "kmeans_predictions = y_kmeans.predict(df)\n",
    "\n",
    "# Выводим предсказания\n",
    "print(kmeans_predictions)"
   ]
  },
  {
   "cell_type": "code",
   "execution_count": 420,
   "metadata": {},
   "outputs": [],
   "source": [
    "df_kmeans = df    # df_kmeans is a dafaframe for k-means clustarization \n",
    "df_kmeans['cluster'] = y_kmeans.labels_"
   ]
  },
  {
   "cell_type": "markdown",
   "metadata": {},
   "source": [
    "Visualization"
   ]
  },
  {
   "cell_type": "code",
   "execution_count": 421,
   "metadata": {},
   "outputs": [
    {
     "data": {
      "text/plain": [
       "Text(0.5, 1, 'Clustering')"
      ]
     },
     "execution_count": 421,
     "metadata": {},
     "output_type": "execute_result"
    },
    {
     "data": {
      "image/png": "[encoded data removed]",
      "text/plain": [
       "<Figure size 432x288 with 1 Axes>"
      ]
     },
     "metadata": {
      "needs_background": "light"
     },
     "output_type": "display_data"
    }
   ],
   "source": [
    "plt.figure()\n",
    "\n",
    "plt.scatter(df_kmeans[df_kmeans['cluster'] == 0]['SepalLengthCm'],\n",
    "            df_kmeans[df_kmeans['cluster'] == 0]['SepalWidthCm'],\n",
    "            color = 'c')\n",
    "\n",
    "plt.scatter(df_kmeans[df_kmeans['cluster'] == 1]['SepalLengthCm'],\n",
    "            df_kmeans[df_kmeans['cluster'] == 1]['SepalWidthCm'],\n",
    "            color = 'm')\n",
    "\n",
    "plt.scatter(df_kmeans[df_kmeans['cluster'] == 2]['SepalLengthCm'],\n",
    "            df_kmeans[df_kmeans['cluster'] == 2]['SepalWidthCm'],\n",
    "            color = 'darkorange')\n",
    "plt.scatter(df_kmeans[df_kmeans['cluster'] == 3]['SepalLengthCm'],\n",
    "            df_kmeans[df_kmeans['cluster'] == 3]['SepalWidthCm'],\n",
    "            color = 'r')\n",
    "ax.set_title('Clustering')"
   ]
  },
  {
   "cell_type": "code",
   "execution_count": 422,
   "metadata": {},
   "outputs": [
    {
     "data": {
      "text/plain": [
       "Text(0.5, 1, 'Clustering')"
      ]
     },
     "execution_count": 422,
     "metadata": {},
     "output_type": "execute_result"
    },
    {
     "data": {
      "image/png": "[encoded data removed]",
      "text/plain": [
       "<Figure size 432x288 with 1 Axes>"
      ]
     },
     "metadata": {
      "needs_background": "light"
     },
     "output_type": "display_data"
    }
   ],
   "source": [
    "plt.figure()\n",
    "\n",
    "plt.scatter(df_kmeans[df_kmeans['cluster'] == 0]['PetalLengthCm'],\n",
    "            df_kmeans[df_kmeans['cluster'] == 0]['PetalWidthCm'],\n",
    "            color = 'c')\n",
    "\n",
    "plt.scatter(df_kmeans[df_kmeans['cluster'] == 1]['PetalLengthCm'],\n",
    "            df_kmeans[df_kmeans['cluster'] == 1]['PetalWidthCm'],\n",
    "            color = 'm')\n",
    "\n",
    "plt.scatter(df_kmeans[df_kmeans['cluster'] == 2]['PetalLengthCm'],\n",
    "            df_kmeans[df_kmeans['cluster'] == 2]['PetalWidthCm'],\n",
    "            color = 'darkorange')\n",
    "plt.scatter(df_kmeans[df_kmeans['cluster'] == 3]['PetalLengthCm'],\n",
    "            df_kmeans[df_kmeans['cluster'] == 3]['PetalWidthCm'],\n",
    "            color = 'r')\n",
    "ax.set_title('Clustering')"
   ]
  },
  {
   "cell_type": "markdown",
   "metadata": {},
   "source": [
    "Metrics"
   ]
  },
  {
   "cell_type": "markdown",
   "metadata": {},
   "source": [
    "Euclidean metric"
   ]
  },
  {
   "cell_type": "code",
   "execution_count": 423,
   "metadata": {},
   "outputs": [
    {
     "data": {
      "text/html": [
       "<div>\n",
       "<style scoped>\n",
       "    .dataframe tbody tr th:only-of-type {\n",
       "        vertical-align: middle;\n",
       "    }\n",
       "\n",
       "    .dataframe tbody tr th {\n",
       "        vertical-align: top;\n",
       "    }\n",
       "\n",
       "    .dataframe thead th {\n",
       "        text-align: right;\n",
       "    }\n",
       "</style>\n",
       "<table border=\"1\" class=\"dataframe\">\n",
       "  <thead>\n",
       "    <tr style=\"text-align: right;\">\n",
       "      <th></th>\n",
       "      <th>SepalLengthCm</th>\n",
       "      <th>SepalWidthCm</th>\n",
       "      <th>PetalLengthCm</th>\n",
       "      <th>PetalWidthCm</th>\n",
       "      <th>cluster</th>\n",
       "      <th>euc_dist_0</th>\n",
       "      <th>euc_dist_1</th>\n",
       "      <th>euc_dist_2</th>\n",
       "      <th>euc_dist_3</th>\n",
       "    </tr>\n",
       "    <tr>\n",
       "      <th>Id</th>\n",
       "      <th></th>\n",
       "      <th></th>\n",
       "      <th></th>\n",
       "      <th></th>\n",
       "      <th></th>\n",
       "      <th></th>\n",
       "      <th></th>\n",
       "      <th></th>\n",
       "      <th></th>\n",
       "    </tr>\n",
       "  </thead>\n",
       "  <tbody>\n",
       "    <tr>\n",
       "      <td>1</td>\n",
       "      <td>5.1</td>\n",
       "      <td>3.5</td>\n",
       "      <td>1.4</td>\n",
       "      <td>0.2</td>\n",
       "      <td>1</td>\n",
       "      <td>5.191298</td>\n",
       "      <td>0.146942</td>\n",
       "      <td>2.923859</td>\n",
       "      <td>3.929011</td>\n",
       "    </tr>\n",
       "    <tr>\n",
       "      <td>2</td>\n",
       "      <td>4.9</td>\n",
       "      <td>3.0</td>\n",
       "      <td>1.4</td>\n",
       "      <td>0.2</td>\n",
       "      <td>1</td>\n",
       "      <td>5.250198</td>\n",
       "      <td>0.438169</td>\n",
       "      <td>2.854387</td>\n",
       "      <td>3.942478</td>\n",
       "    </tr>\n",
       "    <tr>\n",
       "      <td>3</td>\n",
       "      <td>4.7</td>\n",
       "      <td>3.2</td>\n",
       "      <td>1.3</td>\n",
       "      <td>0.2</td>\n",
       "      <td>1</td>\n",
       "      <td>5.413775</td>\n",
       "      <td>0.412301</td>\n",
       "      <td>3.024606</td>\n",
       "      <td>4.112801</td>\n",
       "    </tr>\n",
       "    <tr>\n",
       "      <td>4</td>\n",
       "      <td>4.6</td>\n",
       "      <td>3.1</td>\n",
       "      <td>1.5</td>\n",
       "      <td>0.2</td>\n",
       "      <td>1</td>\n",
       "      <td>5.288923</td>\n",
       "      <td>0.518837</td>\n",
       "      <td>2.863132</td>\n",
       "      <td>3.976258</td>\n",
       "    </tr>\n",
       "    <tr>\n",
       "      <td>5</td>\n",
       "      <td>5.0</td>\n",
       "      <td>3.6</td>\n",
       "      <td>1.4</td>\n",
       "      <td>0.2</td>\n",
       "      <td>1</td>\n",
       "      <td>5.235655</td>\n",
       "      <td>0.197970</td>\n",
       "      <td>2.971235</td>\n",
       "      <td>3.977013</td>\n",
       "    </tr>\n",
       "  </tbody>\n",
       "</table>\n",
       "</div>"
      ],
      "text/plain": [
       "    SepalLengthCm  SepalWidthCm  PetalLengthCm  PetalWidthCm  cluster  \\\n",
       "Id                                                                      \n",
       "1             5.1           3.5            1.4           0.2        1   \n",
       "2             4.9           3.0            1.4           0.2        1   \n",
       "3             4.7           3.2            1.3           0.2        1   \n",
       "4             4.6           3.1            1.5           0.2        1   \n",
       "5             5.0           3.6            1.4           0.2        1   \n",
       "\n",
       "    euc_dist_0  euc_dist_1  euc_dist_2  euc_dist_3  \n",
       "Id                                                  \n",
       "1     5.191298    0.146942    2.923859    3.929011  \n",
       "2     5.250198    0.438169    2.854387    3.942478  \n",
       "3     5.413775    0.412301    3.024606    4.112801  \n",
       "4     5.288923    0.518837    2.863132    3.976258  \n",
       "5     5.235655    0.197970    2.971235    3.977013  "
      ]
     },
     "execution_count": 423,
     "metadata": {},
     "output_type": "execute_result"
    }
   ],
   "source": [
    "centroids = y_kmeans.cluster_centers_\n",
    "dists = pd.DataFrame(\n",
    "    sdist.cdist(df_kmeans[['SepalLengthCm','SepalWidthCm','PetalLengthCm','PetalWidthCm']], centroids), \n",
    "    columns=['euc_dist_{}'.format(i) for i in range(len(centroids))],\n",
    "    index=df_kmeans.index)\n",
    "df_kmeans = pd.concat([df_kmeans, dists], axis=1)\n",
    "\n",
    "df_kmeans.head()"
   ]
  },
  {
   "cell_type": "code",
   "execution_count": 424,
   "metadata": {
    "scrolled": false
   },
   "outputs": [
    {
     "data": {
      "text/plain": [
       "array([[6.9125    , 3.1       , 5.846875  , 2.13125   ],\n",
       "       [5.006     , 3.418     , 1.464     , 0.244     ],\n",
       "       [5.53214286, 2.63571429, 3.96071429, 1.22857143],\n",
       "       [6.2525    , 2.855     , 4.815     , 1.625     ]])"
      ]
     },
     "execution_count": 424,
     "metadata": {},
     "output_type": "execute_result"
    }
   ],
   "source": [
    "centroids"
   ]
  },
  {
   "cell_type": "markdown",
   "metadata": {},
   "source": [
    "Manhattan metric"
   ]
  },
  {
   "cell_type": "code",
   "execution_count": 426,
   "metadata": {},
   "outputs": [
    {
     "data": {
      "text/html": [
       "<div>\n",
       "<style scoped>\n",
       "    .dataframe tbody tr th:only-of-type {\n",
       "        vertical-align: middle;\n",
       "    }\n",
       "\n",
       "    .dataframe tbody tr th {\n",
       "        vertical-align: top;\n",
       "    }\n",
       "\n",
       "    .dataframe thead th {\n",
       "        text-align: right;\n",
       "    }\n",
       "</style>\n",
       "<table border=\"1\" class=\"dataframe\">\n",
       "  <thead>\n",
       "    <tr style=\"text-align: right;\">\n",
       "      <th></th>\n",
       "      <th>man_dist_1</th>\n",
       "      <th>man_dist_2</th>\n",
       "      <th>man_dist_3</th>\n",
       "      <th>man_dist_4</th>\n",
       "    </tr>\n",
       "  </thead>\n",
       "  <tbody>\n",
       "    <tr>\n",
       "      <td>0</td>\n",
       "      <td>1.812500</td>\n",
       "      <td>0.400000</td>\n",
       "      <td>4.446875</td>\n",
       "      <td>1.931250</td>\n",
       "    </tr>\n",
       "    <tr>\n",
       "      <td>1</td>\n",
       "      <td>0.094000</td>\n",
       "      <td>0.082000</td>\n",
       "      <td>0.064000</td>\n",
       "      <td>0.044000</td>\n",
       "    </tr>\n",
       "    <tr>\n",
       "      <td>2</td>\n",
       "      <td>0.432143</td>\n",
       "      <td>0.864286</td>\n",
       "      <td>2.560714</td>\n",
       "      <td>1.028571</td>\n",
       "    </tr>\n",
       "    <tr>\n",
       "      <td>3</td>\n",
       "      <td>1.152500</td>\n",
       "      <td>0.645000</td>\n",
       "      <td>3.415000</td>\n",
       "      <td>1.425000</td>\n",
       "    </tr>\n",
       "    <tr>\n",
       "      <td>4</td>\n",
       "      <td>2.012500</td>\n",
       "      <td>0.100000</td>\n",
       "      <td>4.446875</td>\n",
       "      <td>1.931250</td>\n",
       "    </tr>\n",
       "  </tbody>\n",
       "</table>\n",
       "</div>"
      ],
      "text/plain": [
       "   man_dist_1  man_dist_2  man_dist_3  man_dist_4\n",
       "0    1.812500    0.400000    4.446875    1.931250\n",
       "1    0.094000    0.082000    0.064000    0.044000\n",
       "2    0.432143    0.864286    2.560714    1.028571\n",
       "3    1.152500    0.645000    3.415000    1.425000\n",
       "4    2.012500    0.100000    4.446875    1.931250"
      ]
     },
     "execution_count": 426,
     "metadata": {},
     "output_type": "execute_result"
    }
   ],
   "source": [
    "man_dist = manhattan_distances(df_kmeans[['SepalLengthCm','SepalWidthCm','PetalLengthCm','PetalWidthCm']], centroids, sum_over_features=False)\n",
    "df_man=pd.DataFrame(man_dist,columns=['man_dist_1','man_dist_2','man_dist_3','man_dist_4'])\n",
    "df_kmeans = pd.concat([df_kmeans, df_man], axis=1)\n",
    "df_man.head()"
   ]
  },
  {
   "cell_type": "markdown",
   "metadata": {},
   "source": [
    "Indicators of the splitting quality"
   ]
  },
  {
   "cell_type": "code",
   "execution_count": 427,
   "metadata": {},
   "outputs": [
    {
     "data": {
      "text/plain": [
       "1.0000000000000002"
      ]
     },
     "execution_count": 427,
     "metadata": {},
     "output_type": "execute_result"
    }
   ],
   "source": [
    "#Homogeneity metric\n",
    "\n",
    "from sklearn.metrics.cluster import homogeneity_score\n",
    "homogeneity_score(df_true, kmeans_predictions)"
   ]
  },
  {
   "cell_type": "code",
   "execution_count": 428,
   "metadata": {},
   "outputs": [
    {
     "data": {
      "text/plain": [
       "0.43871946945269025"
      ]
     },
     "execution_count": 428,
     "metadata": {},
     "output_type": "execute_result"
    }
   ],
   "source": [
    "#Rand index\n",
    "\n",
    "from sklearn.metrics.cluster import adjusted_rand_score\n",
    "adjusted_rand_score(df_true, kmeans_predictions)"
   ]
  },
  {
   "cell_type": "code",
   "execution_count": 429,
   "metadata": {},
   "outputs": [
    {
     "name": "stderr",
     "output_type": "stream",
     "text": [
      "C:\\Anac\\lib\\site-packages\\sklearn\\metrics\\cluster\\supervised.py:746: FutureWarning: The behavior of AMI will change in version 0.22. To match the behavior of 'v_measure_score', AMI will use average_method='arithmetic' by default.\n",
      "  FutureWarning)\n"
     ]
    },
    {
     "data": {
      "text/plain": [
       "0.4634640605825921"
      ]
     },
     "execution_count": 429,
     "metadata": {},
     "output_type": "execute_result"
    }
   ],
   "source": [
    "#Mutual Information based scores\n",
    "\n",
    "from sklearn.metrics import adjusted_mutual_info_score\n",
    "adjusted_mutual_info_score(df_true, kmeans_predictions)  "
   ]
  },
  {
   "cell_type": "code",
   "execution_count": 430,
   "metadata": {},
   "outputs": [
    {
     "data": {
      "text/plain": [
       "0.6828138969102527"
      ]
     },
     "execution_count": 430,
     "metadata": {},
     "output_type": "execute_result"
    }
   ],
   "source": [
    "#Fowlkes-Mallows scores\n",
    "from sklearn.metrics import fowlkes_mallows_score\n",
    "fowlkes_mallows_score(df_true, kmeans_predictions) "
   ]
  },
  {
   "cell_type": "markdown",
   "metadata": {},
   "source": [
    "# Agglomerative Clustering"
   ]
  },
  {
   "cell_type": "markdown",
   "metadata": {},
   "source": [
    "Implementation"
   ]
  },
  {
   "cell_type": "code",
   "execution_count": 431,
   "metadata": {},
   "outputs": [
    {
     "data": {
      "text/plain": [
       "array([1, 1, 1, 1, 1, 1, 1, 1, 1, 1, 1, 1, 1, 1, 1, 1, 1, 1, 1, 1, 1, 1,\n",
       "       1, 1, 1, 1, 1, 1, 1, 1, 1, 1, 1, 1, 1, 1, 1, 1, 1, 1, 1, 1, 1, 1,\n",
       "       1, 1, 1, 1, 1, 1, 2, 2, 2, 3, 2, 3, 2, 3, 2, 3, 3, 3, 3, 2, 3, 2,\n",
       "       3, 3, 2, 3, 2, 3, 2, 2, 2, 2, 2, 2, 2, 3, 3, 3, 3, 2, 3, 2, 2, 2,\n",
       "       3, 3, 3, 2, 3, 3, 3, 3, 3, 2, 3, 3, 0, 2, 0, 0, 0, 0, 3, 0, 0, 0,\n",
       "       2, 2, 0, 2, 2, 0, 0, 0, 0, 2, 0, 2, 0, 2, 0, 0, 2, 2, 0, 0, 0, 0,\n",
       "       0, 2, 2, 0, 0, 0, 2, 0, 0, 0, 2, 0, 0, 0, 2, 2, 0, 2], dtype=int64)"
      ]
     },
     "execution_count": 431,
     "metadata": {},
     "output_type": "execute_result"
    }
   ],
   "source": [
    "agglomerative_model = AgglomerativeClustering(n_clusters=4, affinity='euclidean', linkage='ward').fit(df)\n",
    "\n",
    "# Предсказание на всем наборе данных\n",
    "agglomerative_predictions = agglomerative_model.fit(df)\n",
    "labels = agglomerative_model.labels_\n",
    "labels"
   ]
  },
  {
   "cell_type": "code",
   "execution_count": 432,
   "metadata": {},
   "outputs": [
    {
     "data": {
      "text/html": [
       "<div>\n",
       "<style scoped>\n",
       "    .dataframe tbody tr th:only-of-type {\n",
       "        vertical-align: middle;\n",
       "    }\n",
       "\n",
       "    .dataframe tbody tr th {\n",
       "        vertical-align: top;\n",
       "    }\n",
       "\n",
       "    .dataframe thead th {\n",
       "        text-align: right;\n",
       "    }\n",
       "</style>\n",
       "<table border=\"1\" class=\"dataframe\">\n",
       "  <thead>\n",
       "    <tr style=\"text-align: right;\">\n",
       "      <th></th>\n",
       "      <th>SepalLengthCm</th>\n",
       "      <th>SepalWidthCm</th>\n",
       "      <th>PetalLengthCm</th>\n",
       "      <th>PetalWidthCm</th>\n",
       "      <th>cluster</th>\n",
       "    </tr>\n",
       "    <tr>\n",
       "      <th>Id</th>\n",
       "      <th></th>\n",
       "      <th></th>\n",
       "      <th></th>\n",
       "      <th></th>\n",
       "      <th></th>\n",
       "    </tr>\n",
       "  </thead>\n",
       "  <tbody>\n",
       "    <tr>\n",
       "      <td>1</td>\n",
       "      <td>5.1</td>\n",
       "      <td>3.5</td>\n",
       "      <td>1.4</td>\n",
       "      <td>0.2</td>\n",
       "      <td>1</td>\n",
       "    </tr>\n",
       "    <tr>\n",
       "      <td>2</td>\n",
       "      <td>4.9</td>\n",
       "      <td>3.0</td>\n",
       "      <td>1.4</td>\n",
       "      <td>0.2</td>\n",
       "      <td>1</td>\n",
       "    </tr>\n",
       "    <tr>\n",
       "      <td>3</td>\n",
       "      <td>4.7</td>\n",
       "      <td>3.2</td>\n",
       "      <td>1.3</td>\n",
       "      <td>0.2</td>\n",
       "      <td>1</td>\n",
       "    </tr>\n",
       "    <tr>\n",
       "      <td>4</td>\n",
       "      <td>4.6</td>\n",
       "      <td>3.1</td>\n",
       "      <td>1.5</td>\n",
       "      <td>0.2</td>\n",
       "      <td>1</td>\n",
       "    </tr>\n",
       "    <tr>\n",
       "      <td>5</td>\n",
       "      <td>5.0</td>\n",
       "      <td>3.6</td>\n",
       "      <td>1.4</td>\n",
       "      <td>0.2</td>\n",
       "      <td>1</td>\n",
       "    </tr>\n",
       "  </tbody>\n",
       "</table>\n",
       "</div>"
      ],
      "text/plain": [
       "    SepalLengthCm  SepalWidthCm  PetalLengthCm  PetalWidthCm  cluster\n",
       "Id                                                                   \n",
       "1             5.1           3.5            1.4           0.2        1\n",
       "2             4.9           3.0            1.4           0.2        1\n",
       "3             4.7           3.2            1.3           0.2        1\n",
       "4             4.6           3.1            1.5           0.2        1\n",
       "5             5.0           3.6            1.4           0.2        1"
      ]
     },
     "execution_count": 432,
     "metadata": {},
     "output_type": "execute_result"
    }
   ],
   "source": [
    "df_agglomer = df    # df_agglomerative is a dafaframe for k-means clustarization \n",
    "df_agglomer['cluster'] = agglomerative_model.labels_\n",
    "df_agglomer.head()"
   ]
  },
  {
   "cell_type": "markdown",
   "metadata": {},
   "source": [
    "Visualization"
   ]
  },
  {
   "cell_type": "code",
   "execution_count": 433,
   "metadata": {},
   "outputs": [
    {
     "data": {
      "text/plain": [
       "Text(0.5, 1, 'Clustering')"
      ]
     },
     "execution_count": 433,
     "metadata": {},
     "output_type": "execute_result"
    },
    {
     "data": {
      "image/png": "[encoded data removed]",
      "text/plain": [
       "<Figure size 432x288 with 1 Axes>"
      ]
     },
     "metadata": {
      "needs_background": "light"
     },
     "output_type": "display_data"
    }
   ],
   "source": [
    "plt.figure()\n",
    "\n",
    "plt.scatter(df_kmeans[df_kmeans['cluster'] == 0]['SepalLengthCm'],\n",
    "            df_kmeans[df_kmeans['cluster'] == 0]['SepalWidthCm'],\n",
    "            color = 'c')\n",
    "\n",
    "plt.scatter(df_kmeans[df_kmeans['cluster'] == 1]['SepalLengthCm'],\n",
    "            df_kmeans[df_kmeans['cluster'] == 1]['SepalWidthCm'],\n",
    "            color = 'm')\n",
    "\n",
    "plt.scatter(df_kmeans[df_kmeans['cluster'] == 2]['SepalLengthCm'],\n",
    "            df_kmeans[df_kmeans['cluster'] == 2]['SepalWidthCm'],\n",
    "            color = 'darkorange')\n",
    "plt.scatter(df_kmeans[df_kmeans['cluster'] == 3]['SepalLengthCm'],\n",
    "            df_kmeans[df_kmeans['cluster'] == 3]['SepalWidthCm'],\n",
    "            color = 'r')\n",
    "ax.set_title('Clustering')"
   ]
  },
  {
   "cell_type": "code",
   "execution_count": 434,
   "metadata": {},
   "outputs": [
    {
     "data": {
      "text/plain": [
       "Text(0.5, 1, 'Clustering')"
      ]
     },
     "execution_count": 434,
     "metadata": {},
     "output_type": "execute_result"
    },
    {
     "data": {
      "image/png": "[encoded data removed]",
      "text/plain": [
       "<Figure size 432x288 with 1 Axes>"
      ]
     },
     "metadata": {
      "needs_background": "light"
     },
     "output_type": "display_data"
    }
   ],
   "source": [
    "plt.figure()\n",
    "\n",
    "plt.scatter(df_kmeans[df_kmeans['cluster'] == 0]['PetalLengthCm'],\n",
    "            df_kmeans[df_kmeans['cluster'] == 0]['PetalWidthCm'],\n",
    "            color = 'c')\n",
    "\n",
    "plt.scatter(df_kmeans[df_kmeans['cluster'] == 1]['PetalLengthCm'],\n",
    "            df_kmeans[df_kmeans['cluster'] == 1]['PetalWidthCm'],\n",
    "            color = 'm')\n",
    "\n",
    "plt.scatter(df_kmeans[df_kmeans['cluster'] == 2]['PetalLengthCm'],\n",
    "            df_kmeans[df_kmeans['cluster'] == 2]['PetalWidthCm'],\n",
    "            color = 'darkorange')\n",
    "plt.scatter(df_kmeans[df_kmeans['cluster'] == 3]['PetalLengthCm'],\n",
    "            df_kmeans[df_kmeans['cluster'] == 3]['PetalWidthCm'],\n",
    "            color = 'r')\n",
    "ax.set_title('Clustering')"
   ]
  },
  {
   "cell_type": "markdown",
   "metadata": {},
   "source": [
    "Metrics"
   ]
  },
  {
   "cell_type": "markdown",
   "metadata": {},
   "source": [
    "Euclidean metric"
   ]
  },
  {
   "cell_type": "code",
   "execution_count": 435,
   "metadata": {},
   "outputs": [
    {
     "data": {
      "text/plain": [
       "array([[6.9125    , 3.1       , 5.846875  , 2.13125   ],\n",
       "       [5.006     , 3.418     , 1.464     , 0.244     ],\n",
       "       [6.2525    , 2.855     , 4.815     , 1.625     ],\n",
       "       [5.53214286, 2.63571429, 3.96071429, 1.22857143]])"
      ]
     },
     "execution_count": 435,
     "metadata": {},
     "output_type": "execute_result"
    }
   ],
   "source": [
    "from sklearn.neighbors.nearest_centroid import NearestCentroid\n",
    "clf = NearestCentroid()\n",
    "clf.fit(df_agglomer[['SepalLengthCm','SepalWidthCm','PetalLengthCm','PetalWidthCm']], labels)\n",
    "agglomer_centroids = clf.centroids_\n",
    "agglomer_centroids"
   ]
  },
  {
   "cell_type": "code",
   "execution_count": 436,
   "metadata": {},
   "outputs": [
    {
     "data": {
      "text/html": [
       "<div>\n",
       "<style scoped>\n",
       "    .dataframe tbody tr th:only-of-type {\n",
       "        vertical-align: middle;\n",
       "    }\n",
       "\n",
       "    .dataframe tbody tr th {\n",
       "        vertical-align: top;\n",
       "    }\n",
       "\n",
       "    .dataframe thead th {\n",
       "        text-align: right;\n",
       "    }\n",
       "</style>\n",
       "<table border=\"1\" class=\"dataframe\">\n",
       "  <thead>\n",
       "    <tr style=\"text-align: right;\">\n",
       "      <th></th>\n",
       "      <th>SepalLengthCm</th>\n",
       "      <th>SepalWidthCm</th>\n",
       "      <th>PetalLengthCm</th>\n",
       "      <th>PetalWidthCm</th>\n",
       "      <th>cluster</th>\n",
       "      <th>euc_dist_0</th>\n",
       "      <th>euc_dist_1</th>\n",
       "      <th>euc_dist_2</th>\n",
       "      <th>euc_dist_3</th>\n",
       "    </tr>\n",
       "    <tr>\n",
       "      <th>Id</th>\n",
       "      <th></th>\n",
       "      <th></th>\n",
       "      <th></th>\n",
       "      <th></th>\n",
       "      <th></th>\n",
       "      <th></th>\n",
       "      <th></th>\n",
       "      <th></th>\n",
       "      <th></th>\n",
       "    </tr>\n",
       "  </thead>\n",
       "  <tbody>\n",
       "    <tr>\n",
       "      <td>1</td>\n",
       "      <td>5.1</td>\n",
       "      <td>3.5</td>\n",
       "      <td>1.4</td>\n",
       "      <td>0.2</td>\n",
       "      <td>1</td>\n",
       "      <td>5.191298</td>\n",
       "      <td>0.146942</td>\n",
       "      <td>3.929011</td>\n",
       "      <td>2.923859</td>\n",
       "    </tr>\n",
       "    <tr>\n",
       "      <td>2</td>\n",
       "      <td>4.9</td>\n",
       "      <td>3.0</td>\n",
       "      <td>1.4</td>\n",
       "      <td>0.2</td>\n",
       "      <td>1</td>\n",
       "      <td>5.250198</td>\n",
       "      <td>0.438169</td>\n",
       "      <td>3.942478</td>\n",
       "      <td>2.854387</td>\n",
       "    </tr>\n",
       "    <tr>\n",
       "      <td>3</td>\n",
       "      <td>4.7</td>\n",
       "      <td>3.2</td>\n",
       "      <td>1.3</td>\n",
       "      <td>0.2</td>\n",
       "      <td>1</td>\n",
       "      <td>5.413775</td>\n",
       "      <td>0.412301</td>\n",
       "      <td>4.112801</td>\n",
       "      <td>3.024606</td>\n",
       "    </tr>\n",
       "    <tr>\n",
       "      <td>4</td>\n",
       "      <td>4.6</td>\n",
       "      <td>3.1</td>\n",
       "      <td>1.5</td>\n",
       "      <td>0.2</td>\n",
       "      <td>1</td>\n",
       "      <td>5.288923</td>\n",
       "      <td>0.518837</td>\n",
       "      <td>3.976258</td>\n",
       "      <td>2.863132</td>\n",
       "    </tr>\n",
       "    <tr>\n",
       "      <td>5</td>\n",
       "      <td>5.0</td>\n",
       "      <td>3.6</td>\n",
       "      <td>1.4</td>\n",
       "      <td>0.2</td>\n",
       "      <td>1</td>\n",
       "      <td>5.235655</td>\n",
       "      <td>0.197970</td>\n",
       "      <td>3.977013</td>\n",
       "      <td>2.971235</td>\n",
       "    </tr>\n",
       "  </tbody>\n",
       "</table>\n",
       "</div>"
      ],
      "text/plain": [
       "    SepalLengthCm  SepalWidthCm  PetalLengthCm  PetalWidthCm  cluster  \\\n",
       "Id                                                                      \n",
       "1             5.1           3.5            1.4           0.2        1   \n",
       "2             4.9           3.0            1.4           0.2        1   \n",
       "3             4.7           3.2            1.3           0.2        1   \n",
       "4             4.6           3.1            1.5           0.2        1   \n",
       "5             5.0           3.6            1.4           0.2        1   \n",
       "\n",
       "    euc_dist_0  euc_dist_1  euc_dist_2  euc_dist_3  \n",
       "Id                                                  \n",
       "1     5.191298    0.146942    3.929011    2.923859  \n",
       "2     5.250198    0.438169    3.942478    2.854387  \n",
       "3     5.413775    0.412301    4.112801    3.024606  \n",
       "4     5.288923    0.518837    3.976258    2.863132  \n",
       "5     5.235655    0.197970    3.977013    2.971235  "
      ]
     },
     "execution_count": 436,
     "metadata": {},
     "output_type": "execute_result"
    }
   ],
   "source": [
    "dists = pd.DataFrame(\n",
    "    sdist.cdist(df_agglomer[['SepalLengthCm','SepalWidthCm','PetalLengthCm','PetalWidthCm']], agglomer_centroids), \n",
    "    columns=['euc_dist_{}'.format(i) for i in range(len(agglomer_centroids))],\n",
    "    index=df_agglomer.index)\n",
    "df_agglomer = pd.concat([df_agglomer, dists], axis=1)\n",
    "\n",
    "df_agglomer.head()"
   ]
  },
  {
   "cell_type": "markdown",
   "metadata": {},
   "source": [
    "Manhattan metric"
   ]
  },
  {
   "cell_type": "code",
   "execution_count": 437,
   "metadata": {},
   "outputs": [
    {
     "data": {
      "text/html": [
       "<div>\n",
       "<style scoped>\n",
       "    .dataframe tbody tr th:only-of-type {\n",
       "        vertical-align: middle;\n",
       "    }\n",
       "\n",
       "    .dataframe tbody tr th {\n",
       "        vertical-align: top;\n",
       "    }\n",
       "\n",
       "    .dataframe thead th {\n",
       "        text-align: right;\n",
       "    }\n",
       "</style>\n",
       "<table border=\"1\" class=\"dataframe\">\n",
       "  <thead>\n",
       "    <tr style=\"text-align: right;\">\n",
       "      <th></th>\n",
       "      <th>man_dist_1</th>\n",
       "      <th>man_dist_2</th>\n",
       "      <th>man_dist_3</th>\n",
       "      <th>man_dist_4</th>\n",
       "    </tr>\n",
       "  </thead>\n",
       "  <tbody>\n",
       "    <tr>\n",
       "      <td>0</td>\n",
       "      <td>1.812500</td>\n",
       "      <td>0.400000</td>\n",
       "      <td>4.446875</td>\n",
       "      <td>1.931250</td>\n",
       "    </tr>\n",
       "    <tr>\n",
       "      <td>1</td>\n",
       "      <td>0.094000</td>\n",
       "      <td>0.082000</td>\n",
       "      <td>0.064000</td>\n",
       "      <td>0.044000</td>\n",
       "    </tr>\n",
       "    <tr>\n",
       "      <td>2</td>\n",
       "      <td>1.152500</td>\n",
       "      <td>0.645000</td>\n",
       "      <td>3.415000</td>\n",
       "      <td>1.425000</td>\n",
       "    </tr>\n",
       "    <tr>\n",
       "      <td>3</td>\n",
       "      <td>0.432143</td>\n",
       "      <td>0.864286</td>\n",
       "      <td>2.560714</td>\n",
       "      <td>1.028571</td>\n",
       "    </tr>\n",
       "    <tr>\n",
       "      <td>4</td>\n",
       "      <td>2.012500</td>\n",
       "      <td>0.100000</td>\n",
       "      <td>4.446875</td>\n",
       "      <td>1.931250</td>\n",
       "    </tr>\n",
       "  </tbody>\n",
       "</table>\n",
       "</div>"
      ],
      "text/plain": [
       "   man_dist_1  man_dist_2  man_dist_3  man_dist_4\n",
       "0    1.812500    0.400000    4.446875    1.931250\n",
       "1    0.094000    0.082000    0.064000    0.044000\n",
       "2    1.152500    0.645000    3.415000    1.425000\n",
       "3    0.432143    0.864286    2.560714    1.028571\n",
       "4    2.012500    0.100000    4.446875    1.931250"
      ]
     },
     "execution_count": 437,
     "metadata": {},
     "output_type": "execute_result"
    }
   ],
   "source": [
    "man_dist_agglomer = manhattan_distances(df_agglomer[['SepalLengthCm','SepalWidthCm','PetalLengthCm','PetalWidthCm']], agglomer_centroids, sum_over_features=False)\n",
    "df_man_agglomer=pd.DataFrame(man_dist_agglomer,columns=['man_dist_1','man_dist_2','man_dist_3','man_dist_4'])\n",
    "df_agglomer = pd.concat([df_agglomer, df_man_agglomer], axis=1)\n",
    "df_man_agglomer.head()"
   ]
  },
  {
   "cell_type": "markdown",
   "metadata": {},
   "source": [
    "Indicators of the splitting quality "
   ]
  },
  {
   "cell_type": "code",
   "execution_count": 438,
   "metadata": {},
   "outputs": [
    {
     "data": {
      "text/plain": [
       "1.0"
      ]
     },
     "execution_count": 438,
     "metadata": {},
     "output_type": "execute_result"
    }
   ],
   "source": [
    "#Homogeneity metric\n",
    "\n",
    "from sklearn.metrics.cluster import homogeneity_score\n",
    "homogeneity_score(df_true, labels)"
   ]
  },
  {
   "cell_type": "code",
   "execution_count": 439,
   "metadata": {},
   "outputs": [
    {
     "data": {
      "text/plain": [
       "0.43871946945269025"
      ]
     },
     "execution_count": 439,
     "metadata": {},
     "output_type": "execute_result"
    }
   ],
   "source": [
    "#Rand index\n",
    "\n",
    "from sklearn.metrics.cluster import adjusted_rand_score\n",
    "adjusted_rand_score(df_true, labels)"
   ]
  },
  {
   "cell_type": "code",
   "execution_count": 440,
   "metadata": {},
   "outputs": [
    {
     "name": "stderr",
     "output_type": "stream",
     "text": [
      "C:\\Anac\\lib\\site-packages\\sklearn\\metrics\\cluster\\supervised.py:746: FutureWarning: The behavior of AMI will change in version 0.22. To match the behavior of 'v_measure_score', AMI will use average_method='arithmetic' by default.\n",
      "  FutureWarning)\n"
     ]
    },
    {
     "data": {
      "text/plain": [
       "0.46346406058259204"
      ]
     },
     "execution_count": 440,
     "metadata": {},
     "output_type": "execute_result"
    }
   ],
   "source": [
    "#Mutual Information based scores\n",
    "\n",
    "from sklearn.metrics import adjusted_mutual_info_score\n",
    "adjusted_mutual_info_score(df_true, labels)  "
   ]
  },
  {
   "cell_type": "code",
   "execution_count": 441,
   "metadata": {},
   "outputs": [
    {
     "data": {
      "text/plain": [
       "0.6828138969102527"
      ]
     },
     "execution_count": 441,
     "metadata": {},
     "output_type": "execute_result"
    }
   ],
   "source": [
    "#Fowlkes-Mallows scores\n",
    "\n",
    "from sklearn.metrics import fowlkes_mallows_score\n",
    "fowlkes_mallows_score(df_true, labels) "
   ]
  },
  {
   "cell_type": "markdown",
   "metadata": {},
   "source": [
    "# KMedoids (non-hierarchical)"
   ]
  },
  {
   "cell_type": "markdown",
   "metadata": {},
   "source": [
    "Implementation"
   ]
  },
  {
   "cell_type": "code",
   "execution_count": 442,
   "metadata": {},
   "outputs": [
    {
     "data": {
      "text/plain": [
       "array([1, 1, 1, 1, 1, 1, 1, 1, 1, 1, 1, 1, 1, 1, 1, 1, 1, 1, 1, 1, 1, 1,\n",
       "       1, 1, 1, 1, 1, 1, 1, 1, 1, 1, 1, 1, 1, 1, 1, 1, 1, 1, 1, 1, 1, 1,\n",
       "       1, 1, 1, 1, 1, 1, 3, 3, 3, 0, 3, 0, 3, 0, 3, 0, 0, 0, 0, 3, 0, 3,\n",
       "       0, 0, 3, 0, 3, 0, 3, 3, 3, 3, 3, 3, 3, 0, 0, 0, 0, 3, 0, 3, 3, 3,\n",
       "       0, 0, 0, 3, 0, 0, 0, 0, 0, 3, 0, 0, 2, 3, 2, 2, 2, 2, 0, 2, 2, 2,\n",
       "       3, 3, 2, 3, 3, 2, 2, 2, 2, 3, 2, 3, 2, 3, 2, 2, 3, 3, 2, 2, 2, 2,\n",
       "       2, 3, 3, 2, 2, 2, 3, 2, 2, 2, 3, 2, 2, 2, 3, 3, 2, 3], dtype=int64)"
      ]
     },
     "execution_count": 442,
     "metadata": {},
     "output_type": "execute_result"
    }
   ],
   "source": [
    "from sklearn_extra.cluster import KMedoids\n",
    "kmedoids = KMedoids(n_clusters=4, random_state=0).fit(df)\n",
    "y_kmedoids = kmedoids.predict(df)\n",
    "y_kmedoids"
   ]
  },
  {
   "cell_type": "code",
   "execution_count": 443,
   "metadata": {},
   "outputs": [
    {
     "data": {
      "text/html": [
       "<div>\n",
       "<style scoped>\n",
       "    .dataframe tbody tr th:only-of-type {\n",
       "        vertical-align: middle;\n",
       "    }\n",
       "\n",
       "    .dataframe tbody tr th {\n",
       "        vertical-align: top;\n",
       "    }\n",
       "\n",
       "    .dataframe thead th {\n",
       "        text-align: right;\n",
       "    }\n",
       "</style>\n",
       "<table border=\"1\" class=\"dataframe\">\n",
       "  <thead>\n",
       "    <tr style=\"text-align: right;\">\n",
       "      <th></th>\n",
       "      <th>SepalLengthCm</th>\n",
       "      <th>SepalWidthCm</th>\n",
       "      <th>PetalLengthCm</th>\n",
       "      <th>PetalWidthCm</th>\n",
       "      <th>cluster</th>\n",
       "    </tr>\n",
       "    <tr>\n",
       "      <th>Id</th>\n",
       "      <th></th>\n",
       "      <th></th>\n",
       "      <th></th>\n",
       "      <th></th>\n",
       "      <th></th>\n",
       "    </tr>\n",
       "  </thead>\n",
       "  <tbody>\n",
       "    <tr>\n",
       "      <td>1</td>\n",
       "      <td>5.1</td>\n",
       "      <td>3.5</td>\n",
       "      <td>1.4</td>\n",
       "      <td>0.2</td>\n",
       "      <td>1</td>\n",
       "    </tr>\n",
       "    <tr>\n",
       "      <td>2</td>\n",
       "      <td>4.9</td>\n",
       "      <td>3.0</td>\n",
       "      <td>1.4</td>\n",
       "      <td>0.2</td>\n",
       "      <td>1</td>\n",
       "    </tr>\n",
       "    <tr>\n",
       "      <td>3</td>\n",
       "      <td>4.7</td>\n",
       "      <td>3.2</td>\n",
       "      <td>1.3</td>\n",
       "      <td>0.2</td>\n",
       "      <td>1</td>\n",
       "    </tr>\n",
       "    <tr>\n",
       "      <td>4</td>\n",
       "      <td>4.6</td>\n",
       "      <td>3.1</td>\n",
       "      <td>1.5</td>\n",
       "      <td>0.2</td>\n",
       "      <td>1</td>\n",
       "    </tr>\n",
       "    <tr>\n",
       "      <td>5</td>\n",
       "      <td>5.0</td>\n",
       "      <td>3.6</td>\n",
       "      <td>1.4</td>\n",
       "      <td>0.2</td>\n",
       "      <td>1</td>\n",
       "    </tr>\n",
       "  </tbody>\n",
       "</table>\n",
       "</div>"
      ],
      "text/plain": [
       "    SepalLengthCm  SepalWidthCm  PetalLengthCm  PetalWidthCm  cluster\n",
       "Id                                                                   \n",
       "1             5.1           3.5            1.4           0.2        1\n",
       "2             4.9           3.0            1.4           0.2        1\n",
       "3             4.7           3.2            1.3           0.2        1\n",
       "4             4.6           3.1            1.5           0.2        1\n",
       "5             5.0           3.6            1.4           0.2        1"
      ]
     },
     "execution_count": 443,
     "metadata": {},
     "output_type": "execute_result"
    }
   ],
   "source": [
    "df_kmedoids = df    # df_kmeans is a dafaframe for k-means clustarization \n",
    "df_kmedoids['cluster'] = y_kmedoids\n",
    "df_kmedoids.head()"
   ]
  },
  {
   "cell_type": "markdown",
   "metadata": {},
   "source": [
    "Visualization"
   ]
  },
  {
   "cell_type": "code",
   "execution_count": 444,
   "metadata": {},
   "outputs": [
    {
     "data": {
      "text/plain": [
       "Text(0.5, 1, 'Clustering')"
      ]
     },
     "execution_count": 444,
     "metadata": {},
     "output_type": "execute_result"
    },
    {
     "data": {
      "image/png": "[encoded data removed]",
      "text/plain": [
       "<Figure size 432x288 with 1 Axes>"
      ]
     },
     "metadata": {
      "needs_background": "light"
     },
     "output_type": "display_data"
    }
   ],
   "source": [
    "plt.figure()\n",
    "\n",
    "plt.scatter(df_kmeans[df_kmeans['cluster'] == 0]['SepalLengthCm'],\n",
    "            df_kmeans[df_kmeans['cluster'] == 0]['SepalWidthCm'],\n",
    "            color = 'c')\n",
    "\n",
    "plt.scatter(df_kmeans[df_kmeans['cluster'] == 1]['SepalLengthCm'],\n",
    "            df_kmeans[df_kmeans['cluster'] == 1]['SepalWidthCm'],\n",
    "            color = 'm')\n",
    "\n",
    "plt.scatter(df_kmeans[df_kmeans['cluster'] == 2]['SepalLengthCm'],\n",
    "            df_kmeans[df_kmeans['cluster'] == 2]['SepalWidthCm'],\n",
    "            color = 'darkorange')\n",
    "plt.scatter(df_kmeans[df_kmeans['cluster'] == 3]['SepalLengthCm'],\n",
    "            df_kmeans[df_kmeans['cluster'] == 3]['SepalWidthCm'],\n",
    "            color = 'r')\n",
    "ax.set_title('Clustering')"
   ]
  },
  {
   "cell_type": "code",
   "execution_count": 445,
   "metadata": {},
   "outputs": [
    {
     "data": {
      "text/plain": [
       "Text(0.5, 1, 'Clustering')"
      ]
     },
     "execution_count": 445,
     "metadata": {},
     "output_type": "execute_result"
    },
    {
     "data": {
      "image/png": "[encoded data removed]",
      "text/plain": [
       "<Figure size 432x288 with 1 Axes>"
      ]
     },
     "metadata": {
      "needs_background": "light"
     },
     "output_type": "display_data"
    }
   ],
   "source": [
    "plt.figure()\n",
    "\n",
    "plt.scatter(df_kmeans[df_kmeans['cluster'] == 0]['PetalLengthCm'],\n",
    "            df_kmeans[df_kmeans['cluster'] == 0]['PetalWidthCm'],\n",
    "            color = 'c')\n",
    "\n",
    "plt.scatter(df_kmeans[df_kmeans['cluster'] == 1]['PetalLengthCm'],\n",
    "            df_kmeans[df_kmeans['cluster'] == 1]['PetalWidthCm'],\n",
    "            color = 'm')\n",
    "\n",
    "plt.scatter(df_kmeans[df_kmeans['cluster'] == 2]['PetalLengthCm'],\n",
    "            df_kmeans[df_kmeans['cluster'] == 2]['PetalWidthCm'],\n",
    "            color = 'darkorange')\n",
    "plt.scatter(df_kmeans[df_kmeans['cluster'] == 3]['PetalLengthCm'],\n",
    "            df_kmeans[df_kmeans['cluster'] == 3]['PetalWidthCm'],\n",
    "            color = 'r')\n",
    "ax.set_title('Clustering')"
   ]
  },
  {
   "cell_type": "markdown",
   "metadata": {},
   "source": [
    "Metrics"
   ]
  },
  {
   "cell_type": "markdown",
   "metadata": {},
   "source": [
    "Euclidean metric"
   ]
  },
  {
   "cell_type": "code",
   "execution_count": 446,
   "metadata": {},
   "outputs": [
    {
     "data": {
      "text/plain": [
       "array([[5.53214286, 2.63571429, 3.96071429, 1.22857143],\n",
       "       [5.006     , 3.418     , 1.464     , 0.244     ],\n",
       "       [6.9125    , 3.1       , 5.846875  , 2.13125   ],\n",
       "       [6.2525    , 2.855     , 4.815     , 1.625     ]])"
      ]
     },
     "execution_count": 446,
     "metadata": {},
     "output_type": "execute_result"
    }
   ],
   "source": [
    "clf_kmedoids = NearestCentroid()\n",
    "clf_kmedoids.fit(df_kmedoids[['SepalLengthCm','SepalWidthCm','PetalLengthCm','PetalWidthCm']], y_kmedoids)\n",
    "kmedoids_centroids = clf_kmedoids.centroids_\n",
    "kmedoids_centroids"
   ]
  },
  {
   "cell_type": "code",
   "execution_count": 448,
   "metadata": {},
   "outputs": [
    {
     "data": {
      "text/html": [
       "<div>\n",
       "<style scoped>\n",
       "    .dataframe tbody tr th:only-of-type {\n",
       "        vertical-align: middle;\n",
       "    }\n",
       "\n",
       "    .dataframe tbody tr th {\n",
       "        vertical-align: top;\n",
       "    }\n",
       "\n",
       "    .dataframe thead th {\n",
       "        text-align: right;\n",
       "    }\n",
       "</style>\n",
       "<table border=\"1\" class=\"dataframe\">\n",
       "  <thead>\n",
       "    <tr style=\"text-align: right;\">\n",
       "      <th></th>\n",
       "      <th>SepalLengthCm</th>\n",
       "      <th>SepalWidthCm</th>\n",
       "      <th>PetalLengthCm</th>\n",
       "      <th>PetalWidthCm</th>\n",
       "      <th>cluster</th>\n",
       "      <th>euc_dist_0</th>\n",
       "      <th>euc_dist_1</th>\n",
       "      <th>euc_dist_2</th>\n",
       "      <th>euc_dist_3</th>\n",
       "    </tr>\n",
       "    <tr>\n",
       "      <th>Id</th>\n",
       "      <th></th>\n",
       "      <th></th>\n",
       "      <th></th>\n",
       "      <th></th>\n",
       "      <th></th>\n",
       "      <th></th>\n",
       "      <th></th>\n",
       "      <th></th>\n",
       "      <th></th>\n",
       "    </tr>\n",
       "  </thead>\n",
       "  <tbody>\n",
       "    <tr>\n",
       "      <td>1</td>\n",
       "      <td>5.1</td>\n",
       "      <td>3.5</td>\n",
       "      <td>1.4</td>\n",
       "      <td>0.2</td>\n",
       "      <td>1</td>\n",
       "      <td>2.923859</td>\n",
       "      <td>0.146942</td>\n",
       "      <td>5.191298</td>\n",
       "      <td>3.929011</td>\n",
       "    </tr>\n",
       "    <tr>\n",
       "      <td>2</td>\n",
       "      <td>4.9</td>\n",
       "      <td>3.0</td>\n",
       "      <td>1.4</td>\n",
       "      <td>0.2</td>\n",
       "      <td>1</td>\n",
       "      <td>2.854387</td>\n",
       "      <td>0.438169</td>\n",
       "      <td>5.250198</td>\n",
       "      <td>3.942478</td>\n",
       "    </tr>\n",
       "    <tr>\n",
       "      <td>3</td>\n",
       "      <td>4.7</td>\n",
       "      <td>3.2</td>\n",
       "      <td>1.3</td>\n",
       "      <td>0.2</td>\n",
       "      <td>1</td>\n",
       "      <td>3.024606</td>\n",
       "      <td>0.412301</td>\n",
       "      <td>5.413775</td>\n",
       "      <td>4.112801</td>\n",
       "    </tr>\n",
       "    <tr>\n",
       "      <td>4</td>\n",
       "      <td>4.6</td>\n",
       "      <td>3.1</td>\n",
       "      <td>1.5</td>\n",
       "      <td>0.2</td>\n",
       "      <td>1</td>\n",
       "      <td>2.863132</td>\n",
       "      <td>0.518837</td>\n",
       "      <td>5.288923</td>\n",
       "      <td>3.976258</td>\n",
       "    </tr>\n",
       "    <tr>\n",
       "      <td>5</td>\n",
       "      <td>5.0</td>\n",
       "      <td>3.6</td>\n",
       "      <td>1.4</td>\n",
       "      <td>0.2</td>\n",
       "      <td>1</td>\n",
       "      <td>2.971235</td>\n",
       "      <td>0.197970</td>\n",
       "      <td>5.235655</td>\n",
       "      <td>3.977013</td>\n",
       "    </tr>\n",
       "  </tbody>\n",
       "</table>\n",
       "</div>"
      ],
      "text/plain": [
       "    SepalLengthCm  SepalWidthCm  PetalLengthCm  PetalWidthCm  cluster  \\\n",
       "Id                                                                      \n",
       "1             5.1           3.5            1.4           0.2        1   \n",
       "2             4.9           3.0            1.4           0.2        1   \n",
       "3             4.7           3.2            1.3           0.2        1   \n",
       "4             4.6           3.1            1.5           0.2        1   \n",
       "5             5.0           3.6            1.4           0.2        1   \n",
       "\n",
       "    euc_dist_0  euc_dist_1  euc_dist_2  euc_dist_3  \n",
       "Id                                                  \n",
       "1     2.923859    0.146942    5.191298    3.929011  \n",
       "2     2.854387    0.438169    5.250198    3.942478  \n",
       "3     3.024606    0.412301    5.413775    4.112801  \n",
       "4     2.863132    0.518837    5.288923    3.976258  \n",
       "5     2.971235    0.197970    5.235655    3.977013  "
      ]
     },
     "execution_count": 448,
     "metadata": {},
     "output_type": "execute_result"
    }
   ],
   "source": [
    "dist_kmed = pd.DataFrame(\n",
    "    sdist.cdist(df_kmedoids[['SepalLengthCm','SepalWidthCm','PetalLengthCm','PetalWidthCm']], kmedoids_centroids), \n",
    "    columns=['euc_dist_{}'.format(i) for i in range(len(kmedoids_centroids))],\n",
    "    index=df_kmedoids.index)\n",
    "df_kmedoids = pd.concat([df_kmedoids, dist_kmed], axis=1)\n",
    "\n",
    "df_kmedoids.head()"
   ]
  },
  {
   "cell_type": "markdown",
   "metadata": {},
   "source": [
    "Manhattan metric"
   ]
  },
  {
   "cell_type": "code",
   "execution_count": 449,
   "metadata": {},
   "outputs": [
    {
     "data": {
      "text/html": [
       "<div>\n",
       "<style scoped>\n",
       "    .dataframe tbody tr th:only-of-type {\n",
       "        vertical-align: middle;\n",
       "    }\n",
       "\n",
       "    .dataframe tbody tr th {\n",
       "        vertical-align: top;\n",
       "    }\n",
       "\n",
       "    .dataframe thead th {\n",
       "        text-align: right;\n",
       "    }\n",
       "</style>\n",
       "<table border=\"1\" class=\"dataframe\">\n",
       "  <thead>\n",
       "    <tr style=\"text-align: right;\">\n",
       "      <th></th>\n",
       "      <th>man_dist_1</th>\n",
       "      <th>man_dist_2</th>\n",
       "      <th>man_dist_3</th>\n",
       "      <th>man_dist_4</th>\n",
       "    </tr>\n",
       "  </thead>\n",
       "  <tbody>\n",
       "    <tr>\n",
       "      <td>0</td>\n",
       "      <td>0.432143</td>\n",
       "      <td>0.864286</td>\n",
       "      <td>2.560714</td>\n",
       "      <td>1.028571</td>\n",
       "    </tr>\n",
       "    <tr>\n",
       "      <td>1</td>\n",
       "      <td>0.094000</td>\n",
       "      <td>0.082000</td>\n",
       "      <td>0.064000</td>\n",
       "      <td>0.044000</td>\n",
       "    </tr>\n",
       "    <tr>\n",
       "      <td>2</td>\n",
       "      <td>1.812500</td>\n",
       "      <td>0.400000</td>\n",
       "      <td>4.446875</td>\n",
       "      <td>1.931250</td>\n",
       "    </tr>\n",
       "    <tr>\n",
       "      <td>3</td>\n",
       "      <td>1.152500</td>\n",
       "      <td>0.645000</td>\n",
       "      <td>3.415000</td>\n",
       "      <td>1.425000</td>\n",
       "    </tr>\n",
       "    <tr>\n",
       "      <td>4</td>\n",
       "      <td>0.632143</td>\n",
       "      <td>0.364286</td>\n",
       "      <td>2.560714</td>\n",
       "      <td>1.028571</td>\n",
       "    </tr>\n",
       "  </tbody>\n",
       "</table>\n",
       "</div>"
      ],
      "text/plain": [
       "   man_dist_1  man_dist_2  man_dist_3  man_dist_4\n",
       "0    0.432143    0.864286    2.560714    1.028571\n",
       "1    0.094000    0.082000    0.064000    0.044000\n",
       "2    1.812500    0.400000    4.446875    1.931250\n",
       "3    1.152500    0.645000    3.415000    1.425000\n",
       "4    0.632143    0.364286    2.560714    1.028571"
      ]
     },
     "execution_count": 449,
     "metadata": {},
     "output_type": "execute_result"
    }
   ],
   "source": [
    "man_dist_kmedoids = manhattan_distances(df_kmedoids[['SepalLengthCm','SepalWidthCm','PetalLengthCm','PetalWidthCm']], kmedoids_centroids, sum_over_features=False)\n",
    "df_man_kmedoids=pd.DataFrame(man_dist_kmedoids,columns=['man_dist_1','man_dist_2','man_dist_3','man_dist_4'])\n",
    "df_kmedoids = pd.concat([df_kmedoids, df_man_kmedoids], axis=1)\n",
    "df_man_kmedoids.head()"
   ]
  },
  {
   "cell_type": "markdown",
   "metadata": {},
   "source": [
    "Indicators of the splitting quality "
   ]
  },
  {
   "cell_type": "code",
   "execution_count": 450,
   "metadata": {},
   "outputs": [
    {
     "data": {
      "text/plain": [
       "1.0"
      ]
     },
     "execution_count": 450,
     "metadata": {},
     "output_type": "execute_result"
    }
   ],
   "source": [
    "#Homogeneity metric\n",
    "\n",
    "from sklearn.metrics.cluster import homogeneity_score\n",
    "homogeneity_score(df_true, labels)"
   ]
  },
  {
   "cell_type": "code",
   "execution_count": 451,
   "metadata": {},
   "outputs": [
    {
     "data": {
      "text/plain": [
       "0.43871946945269025"
      ]
     },
     "execution_count": 451,
     "metadata": {},
     "output_type": "execute_result"
    }
   ],
   "source": [
    "#Rand index\n",
    "from sklearn.metrics.cluster import adjusted_rand_score\n",
    "adjusted_rand_score(df_true, labels)"
   ]
  },
  {
   "cell_type": "code",
   "execution_count": 452,
   "metadata": {},
   "outputs": [
    {
     "name": "stderr",
     "output_type": "stream",
     "text": [
      "C:\\Anac\\lib\\site-packages\\sklearn\\metrics\\cluster\\supervised.py:746: FutureWarning: The behavior of AMI will change in version 0.22. To match the behavior of 'v_measure_score', AMI will use average_method='arithmetic' by default.\n",
      "  FutureWarning)\n"
     ]
    },
    {
     "data": {
      "text/plain": [
       "0.46346406058259204"
      ]
     },
     "execution_count": 452,
     "metadata": {},
     "output_type": "execute_result"
    }
   ],
   "source": [
    "#Mutual Information based scores\n",
    "\n",
    "from sklearn.metrics import adjusted_mutual_info_score\n",
    "adjusted_mutual_info_score(df_true, labels)  "
   ]
  },
  {
   "cell_type": "code",
   "execution_count": 453,
   "metadata": {},
   "outputs": [
    {
     "data": {
      "text/plain": [
       "0.6828138969102527"
      ]
     },
     "execution_count": 453,
     "metadata": {},
     "output_type": "execute_result"
    }
   ],
   "source": [
    "#Fowlkes-Mallows scores\n",
    "\n",
    "from sklearn.metrics import fowlkes_mallows_score\n",
    "fowlkes_mallows_score(df_true, labels) "
   ]
  },
  {
   "cell_type": "markdown",
   "metadata": {},
   "source": [
    "# Dendrograms"
   ]
  },
  {
   "cell_type": "code",
   "execution_count": 454,
   "metadata": {},
   "outputs": [
    {
     "data": {
      "image/png": "[encoded data removed]",
      "text/plain": [
       "<Figure size 432x288 with 1 Axes>"
      ]
     },
     "metadata": {
      "needs_background": "light"
     },
     "output_type": "display_data"
    }
   ],
   "source": [
    "from scipy.cluster.hierarchy import linkage, dendrogram\n",
    "samples = df.values\n",
    "varieties = list(df)\n",
    "mergings = linkage(samples, method='complete')\n",
    "\n",
    "mergings = linkage(samples, method='complete')\n",
    "plt.figure()\n",
    "dn = dendrogram(mergings,leaf_rotation=90.)"
   ]
  },
  {
   "cell_type": "code",
   "execution_count": 455,
   "metadata": {},
   "outputs": [
    {
     "data": {
      "image/png": "[encoded data removed]",
      "text/plain": [
       "<Figure size 432x288 with 1 Axes>"
      ]
     },
     "metadata": {
      "needs_background": "light"
     },
     "output_type": "display_data"
    }
   ],
   "source": [
    "dendrogram = sch.dendrogram(sch.linkage(samples, method='ward'),leaf_rotation=90.)"
   ]
  }
 ],
 "metadata": {
  "kernelspec": {
   "display_name": "Python 3",
   "language": "python",
   "name": "python3"
  },
  "language_info": {
   "codemirror_mode": {
    "name": "ipython",
    "version": 3
   },
   "file_extension": ".py",
   "mimetype": "text/x-python",
   "name": "python",
   "nbconvert_exporter": "python",
   "pygments_lexer": "ipython3",
   "version": "3.7.4"
  }
 },
 "nbformat": 4,
 "nbformat_minor": 4
}
